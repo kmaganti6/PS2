{
 "cells": [
  {
   "cell_type": "code",
   "execution_count": 21,
   "metadata": {},
   "outputs": [],
   "source": [
    "import gensim"
   ]
  },
  {
   "cell_type": "code",
   "execution_count": 22,
   "metadata": {},
   "outputs": [],
   "source": [
    "import nltk"
   ]
  },
  {
   "cell_type": "code",
   "execution_count": 23,
   "metadata": {},
   "outputs": [],
   "source": [
    "with open('greatgab.txt') as f:\n",
    "    contents = f.read()\n",
    "    toksents2 = contents"
   ]
  },
  {
   "cell_type": "code",
   "execution_count": 18,
   "metadata": {},
   "outputs": [
    {
     "name": "stdout",
     "output_type": "stream",
     "text": [
      "[=====================================-------------] 74.0% 23.4/31.6MB downloaded"
     ]
    },
    {
     "name": "stderr",
     "output_type": "stream",
     "text": [
      "IOPub message rate exceeded.\n",
      "The notebook server will temporarily stop sending output\n",
      "to the client in order to avoid crashing it.\n",
      "To change this limit, set the config variable\n",
      "`--NotebookApp.iopub_msg_rate_limit`.\n",
      "\n",
      "Current values:\n",
      "NotebookApp.iopub_msg_rate_limit=1000.0 (msgs/sec)\n",
      "NotebookApp.rate_limit_window=3.0 (secs)\n",
      "\n"
     ]
    }
   ],
   "source": [
    "import gensim.downloader as api\n",
    "toksents = api.load('text8')"
   ]
  },
  {
   "cell_type": "code",
   "execution_count": 19,
   "metadata": {},
   "outputs": [
    {
     "data": {
      "text/plain": [
       "<text8.Dataset at 0x7f9bbf711fa0>"
      ]
     },
     "execution_count": 19,
     "metadata": {},
     "output_type": "execute_result"
    }
   ],
   "source": [
    "toksents"
   ]
  },
  {
   "cell_type": "code",
   "execution_count": 180,
   "metadata": {},
   "outputs": [],
   "source": [
    "toksents1= 'Banquo’s son, Fleance, couldn’t sleep. His father hadn’t come in although it was very late. He got up and went outside. It was chilly. His father’s voice came from behind him.‘What’s the time, boy?’I don’t know,’ said Fleance. ‘But the moon’s gone down.’‘She goes down at twelve.’‘I think it’s later, Sir.’ The boy turned.‘Wait,’ said Banquo. ‘Take my sword.’ He yawned. ‘There’s economy in heaven: their candles are all out.’ He took his belt off. ‘Here take this too. I’m so tired. And yet I don’t want to go to sleep. Merciful powers! What horrendous dreams I’ve been having!’There was the dull light of a torch and the sound of voices.‘Give me my sword!’ said Banquo. ‘Who’s there?’ He relaxed when he heard Macbeth’s answer: ‘A friend.’‘What Sir?’ said Banquo. ‘Not yet in bed? The King is. He’s had a wonderful time and hasn’t stopped talking about you.’ He took a diamond out of his pocket. ‘This is for your wife who he calls a very kind hostess. And he’s gone to bed as contented as a baby.’‘I’m not tired,’ said Macbeth.‘I dreamt about the three weird sisters last night,’ said Banquo. ‘They’ve shown you some truth.’‘I don’t think about them,’ said Macbeth. ‘But when we have an hour to spare we could talk about that business. If you don’t mind.’‘Whenever you like.’‘Alright then. I’ll let you know.’‘As long as I’m not compromised,’ said Banquo. ‘I’m all yours.’‘In the meantime sleep well,’ said Macbeth.‘Thank you, Sir,’ said Banquo. ‘The same to you.’When Banquo and Fleance had gone Macbeth instructed his servant: ‘Go tell your mistress to ring the bell when my drink is ready. Then go to bed.’It was totally silent. And pitch black. It was now or never. Macbeth stared into the darkness. And as he looked it seemed that a dagger hung there. He closed his eyes and opened them again. It was still there. He peered. It didn’t waver. Was it really a dagger? Its handle towards his hand?He tried to clutch it. His hand went right through it: it was still there and yet he couldn’t feel it. Was it only a dagger of the mind, a false creation of a fevered brain?He could still see it as he drew his own, real, dagger: it was pointing the way to Duncan’s room. He knew he was seeing things and yet it was so real. And now there was blood on it, which hadn’t been there before.It was ridiculous. There was no such thing. He knew it was the violence in his mind that was coming out in the form of a bloody dagger.His mind was filled with images of fear and horror and he stood there, overwhelmed by them, until a bell rang and brought him back to the business in hand.‘I go, and it is done: the bell invites me.’ He began walking. ‘Don’t hear it, Duncan: for it’s a knell that summons you to heaven or to hell.’As soon as the King’s chamberlains passed out Lady Macbeth rang the bell then went into the dark courtyard to wait for her husband. She was excited: she had drunk some wine and it had filled her with fire.What was that!No it was nothing: only an owl.The sound of snoring came to her. It meant the doors were open! He had done it! The doors were open and their snores were pouring down the stairs from the bed chambers.‘Who’s there?’Her husband’s voice! They had woken up and he hadn’t done it! They had been caught in the attempt, not the deed itself! How could he have missed the daggers? She had lain them out, ready. It was so easy: if Duncan hadn’t looked so much like her father as he slept she would have done it herself.There was a stumbling noise in the doorway and she rushed towards it.‘My husband!’‘It’s done! Didn’t you hear a noise?’‘I heard the owl scream and the crickets cry. Didn’t you say something?’‘When?’‘Now.’‘As I came downstairs?’‘Yes.’‘Listen. Who’s sleeping in the room next to his?’‘Donalbain.Macbeth dropped the daggers and peered at his hands in the dim light of his wife’s torch. ‘This is a sorry sight.’‘A foolish thought to say a sorry sight!’‘Someone laughed in his sleep and another cried ‘Murder! ‘ And they woke each other. I stood listening. But they said their prayers and went back to sleep.’‘Two of them are sharing a room,’ said Lady Macbeth.‘One of them cried ‘God bless us!’ and the other ‘Amen’ . As though they had seen me with these hangman’s hands. Listening to their fear I couldn’t say Amen when they cried ‘God bless us!’‘‘Don’t think about it,’ she said.‘But why couldn’t I say Amen? I needed a blessing and Amen stuck in my throat.’‘We musn’t think about it: it will drive us mad.’‘I thought I heard a voice cry ‘Sleep no more! Macbeth has murdered sleep.’’ Macbeth put his head on her breast and she cradled him. ‘The innocent sleep’ he muttered – ‘sleep that removes our worries, the death at the end of each careworn day, the balm of hard work, ointment of painful minds, chief nourisher in life’s feast -‘She pushed him away. ‘What are you talking about?’‘And it kept crying ‘Sleep no more’ so that I thought it would wake the whole house up. ‘Glamis has murdered sleep and so Cawdor will sleep no more! Macbeth will sleep no more!’Lady Macbeth stamped her foot. ‘Who was it that cried like that? Come on, Thane. You make a mockery of your manhood, behaving so foolishly. Go and get some water and wash this filthy witness from your hands.’When he came back from the well with the bucket she was holding the daggers. ‘Why on earth did you bring them out? They have to stay there. Take them back and smear the grooms with blood.’Macbeth drew back and looked at her in terror. ‘I’m not going back there. I’m afraid to think about what I’ve done let alone look at it.’‘Weakling!’ she said. ‘Give me the daggers.!’ She snatched them from him. ‘The dead look no different from sleeping people. Fearing the dead is like a child fearing a painted devil. If he’s bleeding I’ll put some of it on the groom’s faces because it must look as though they’ve done it.’Macbeth was left alone. He couldn’t believe what he’d done. Suddenly there was a booming noise. Someone was knocking at the gate. Who was it? Why was it that every noise appalled him? He looked down at his hands and started. Could all the water in the ocean wash this blood off? It was more likely that his hands would turn all the earth’s seas red!‘My hands are the same colour as yours, ‘ said his wife as she joined him. ‘Although I’m sorry to say I don’t feel any guilt. There’s someone knocking at the south entry. Let’s go to our room.’She took his hands and guided them to the bucket. ‘A little water clears us of this deed. See how easy it is? Listen: more knocking. Go and put your nightgown on: it must seem as though we’ve been to bed.’He wasn’t listening. She shook him. ‘Don’t be so lost in your thoughts.’‘It’s better not to think,’ he said.As he walked away, still in a state of shock, helped by his wife, the knocking came again. He wished whoever it was would wake Duncan.The porter had been drinking all evening and it took his wife a long time to wake him. As he staggered out into the misty morning he muttered to himself.‘What a knocking this is! This is the gate of hell, this is. Knock, knock, knock! Who’s there, in the name of Beelzebub? We’ve got all sorts here, I can tell you. Here’s a farmer who hanged himself for being too greedy and losing everything. Alright, alright, new inmate, I’m coming! I hope you ve got enough towels: you’ll sweat enough in here! Knock, knock. Alright!. Here’s a hypocrite who sat on both sides so well you didn’t know where he was.’He shivered and began running. ‘It’s too cold to devil-porter it any longer. Alright, alright!’ He drew back the enormous bolts to admit an impatient Macduff, the great Thane of Fife, accompanied by Lennox.‘What time did you go to bed that you’re having such a good lie in?’ said Macduff.‘Oh very late, Sir,’ said the porter. ‘Drinking all night. And now I’m suffering: drink does three things to you.’Macduff and Lennox walked towards the courtyard, followed by the porter. ‘And what are they?’ said Macduff.‘It makes your nose red, it makes you sleep and it makes you piss. Lust, Sir, it encourages and discourages: it makes you want it but it makes you unable to do it. It makes you and breaks you. It turns you on and it turns you off. It excites you and it dulls you. It makes you stand up to fight and it stops you from standing up!’‘I think you had too much last night.’‘Yes, but I’ve thrown it all up.’‘Is your master awake?’ said Macduff.‘He is now, with all that knocking,’ said the porter. ‘Here he comes. Good morning, noble Sir,’ said Lennox.Macbeth wore a white robe and soft slippers. ‘Good morning to you both,’ he said.‘Is the King up?’‘Not yet.’‘He told me to call for him very early. I’m almost late.’‘I’ll take you to him.’‘I’m sorry to trouble you,’ said Macduff as Macbeth took them to the bed chambers.‘It’s no trouble,’ said Macbeth. ‘There’s the door.’‘I’ll just go and wake him,’ said Macduff. ‘That’s what he told me to do.’ He went in.‘Is the King leaving today?’ said Lennox.‘He is. Or so he intends.’‘It was a wild night where we stayed,’ said Lennox. ‘Our chimneys were blown down. And they say wails and strange ghostly screams were heard in the air. And there were prophesies of dreadful civil war and all sorts of terrible things. Owls flew about all night and there’s been talk of earthquakes.’‘It was a rough night,’ said Macbeth.‘I can’t remember anything like it,’ said Lennox.There was a sudden commotion, a great clatter and banging. ‘Oh horror!’ It was Macduff’s voice – screaming. ‘Horror! horror!’Macbeth and Lennox rushed to the entrance. ‘What?’ ‘What’s the matter?’Macduff stumbled out. ‘Chaos has broken out!’ he cried. ‘Someone’s stolen the life from the Lord’s anointed temple!’‘What’s that?’ said Macbeth. ‘The life?’‘Do you mean his majesty?’ said Lennox.‘Go and see,’ said Macduff. He covered his face with his hands. Don’t tell me to speak. Go and look then speak yourselves.’ They hurried off up to the King’s bedroom. ‘Wake up! Wake up!’ shouted Macduff. ‘Ring the alarm bell! Murder and treason! Banquo and Donalbain! Malcolm! Wake up! Ring the bell!’Lady Macbeth came out as the bell started tolling. ‘What’s going on? All this noise! Tell me, tell me!’‘Oh gentle lady,’ sobbed Macduff. ‘It’s not suitable for a woman to hear. It would kill you.’ He embraced Banquo, who had also just come out. ‘Oh Banquo! Banquo! Our royal master’s been murdered.’‘What! In our house!’ exclaimed Lady Macbeth.‘Too cruel anywhere,’ said Banquo. ‘Dear Duff, I beg of you, tell me it’s not true.’Macbeth and Lennox returned. Everyone looked at Macbeth.‘If I had died an hour before this tragedy I would have lived a good life,’ he said. ‘From this moment there’s nothing important in life.’Malcolm and Donalbain came down the stairs. ‘What’s wrong?’ said Donalbain.Macbeth approached them and put and arm around each. ‘You are and don’t know it,’ he said. ‘The spring, the head, the fountain of your blood, has been turned off. Its very source has been cut off.’‘Your royal father’s been murdered,’ said Macduff.‘Oh!’ Malcolm slumped against Macbeth. ‘Who did it?’‘His chamberlains,’ said Lennox. ‘Their hands and faces were all smeared with blood. So were their daggers, which lay unwiped on their pillows. They stared like madmen, quite desperate.’‘Even so!’ exclaimed Macbeth. ‘I’m sorry about the anger that made me kill them.’‘Why did you do that?’ said Macduff.‘I couldn’t help it,’ said Macbeth. ‘Anyone would have done the same. My love for royal Duncan was stronger than my reason.’ He swept the air in front of him. ‘Here lay Duncan, his silver skin laced with his golden blood, the jagged wounds an affront to nature itself. There… he pointed to the side – ‘the murderers, soaked in the evidence of their deed, their daggers obscenely dripping blood. Who could have helped himself if he’d had a heart at all?’Macduff was about to say something when Lady Macbeth moaned and thrust her hand up dramatically to her forehead. ‘Help me!’ she said and dropped down.‘Help the lady,’ said Macduff and servants ran to her assistance.They all gathered around her, showing their concern. Malcolm whispered to his brother: ‘Why aren’t we taking charge of this? This is our business.’‘We’d be fools to say anything at all,’ said Donalbain. ‘It’s too dangerous. Let’s get out of here.’‘Careful with her there,’ said Banquo as the servants lifted Lady Macbeth. ‘And when we’re all dressed let’s meet and inquire into this violent piece of work. I’m determined to oppose this malicious treason.’‘So am I,’ said Macduff.The others murmured their agreement.‘Let’s go and get dressed then and meet in the great hall,’ said Macbeth.Malcolm and Donalbain watched them go.‘What will you do?’ said Malcolm. ‘We’d better not hang about here. I’m going to England.’‘Ireland for me,’ said Donalbain. ‘It’ll be safer to split up. I don’t trust anyone, least of all our closest relatives.’‘This poisonous arrow hasn’t landed yet,’ said Malcolm. ‘The safest thing is to get out of its way. So let’s find our horses right now. And I don’t think we should be too fussy about making our farewells!’'"
   ]
  },
  {
   "cell_type": "code",
   "execution_count": 201,
   "metadata": {},
   "outputs": [
    {
     "ename": "TypeError",
     "evalue": "expected string or bytes-like object",
     "output_type": "error",
     "traceback": [
      "\u001b[0;31m---------------------------------------------------------------------------\u001b[0m",
      "\u001b[0;31mTypeError\u001b[0m                                 Traceback (most recent call last)",
      "\u001b[0;32m<ipython-input-201-106921fb5542>\u001b[0m in \u001b[0;36m<module>\u001b[0;34m\u001b[0m\n\u001b[1;32m      1\u001b[0m \u001b[0mnish\u001b[0m \u001b[0;34m=\u001b[0m \u001b[0;34m[\u001b[0m\u001b[0;34m]\u001b[0m\u001b[0;34m\u001b[0m\u001b[0;34m\u001b[0m\u001b[0m\n\u001b[0;32m----> 2\u001b[0;31m \u001b[0myash\u001b[0m \u001b[0;34m=\u001b[0m \u001b[0mnltk\u001b[0m\u001b[0;34m.\u001b[0m\u001b[0mtokenize\u001b[0m\u001b[0;34m.\u001b[0m\u001b[0msent_tokenize\u001b[0m\u001b[0;34m(\u001b[0m\u001b[0mtoksents\u001b[0m\u001b[0;34m)\u001b[0m\u001b[0;34m\u001b[0m\u001b[0;34m\u001b[0m\u001b[0m\n\u001b[0m\u001b[1;32m      3\u001b[0m \u001b[0;32mfor\u001b[0m \u001b[0mi\u001b[0m \u001b[0;32min\u001b[0m \u001b[0myash\u001b[0m\u001b[0;34m:\u001b[0m\u001b[0;34m\u001b[0m\u001b[0;34m\u001b[0m\u001b[0m\n\u001b[1;32m      4\u001b[0m     \u001b[0mnish\u001b[0m\u001b[0;34m.\u001b[0m\u001b[0mappend\u001b[0m\u001b[0;34m(\u001b[0m\u001b[0mnltk\u001b[0m\u001b[0;34m.\u001b[0m\u001b[0mtokenize\u001b[0m\u001b[0;34m.\u001b[0m\u001b[0mword_tokenize\u001b[0m\u001b[0;34m(\u001b[0m\u001b[0mi\u001b[0m\u001b[0;34m)\u001b[0m\u001b[0;34m)\u001b[0m\u001b[0;34m\u001b[0m\u001b[0;34m\u001b[0m\u001b[0m\n",
      "\u001b[0;32m/.autofs/tools/spack/var/spack/environments/engl-581-2/.spack-env/view/lib/python3.8/site-packages/nltk/tokenize/__init__.py\u001b[0m in \u001b[0;36msent_tokenize\u001b[0;34m(text, language)\u001b[0m\n\u001b[1;32m    105\u001b[0m     \"\"\"\n\u001b[1;32m    106\u001b[0m     \u001b[0mtokenizer\u001b[0m \u001b[0;34m=\u001b[0m \u001b[0mload\u001b[0m\u001b[0;34m(\u001b[0m\u001b[0;34m\"tokenizers/punkt/{0}.pickle\"\u001b[0m\u001b[0;34m.\u001b[0m\u001b[0mformat\u001b[0m\u001b[0;34m(\u001b[0m\u001b[0mlanguage\u001b[0m\u001b[0;34m)\u001b[0m\u001b[0;34m)\u001b[0m\u001b[0;34m\u001b[0m\u001b[0;34m\u001b[0m\u001b[0m\n\u001b[0;32m--> 107\u001b[0;31m     \u001b[0;32mreturn\u001b[0m \u001b[0mtokenizer\u001b[0m\u001b[0;34m.\u001b[0m\u001b[0mtokenize\u001b[0m\u001b[0;34m(\u001b[0m\u001b[0mtext\u001b[0m\u001b[0;34m)\u001b[0m\u001b[0;34m\u001b[0m\u001b[0;34m\u001b[0m\u001b[0m\n\u001b[0m\u001b[1;32m    108\u001b[0m \u001b[0;34m\u001b[0m\u001b[0m\n\u001b[1;32m    109\u001b[0m \u001b[0;34m\u001b[0m\u001b[0m\n",
      "\u001b[0;32m/.autofs/tools/spack/var/spack/environments/engl-581-2/.spack-env/view/lib/python3.8/site-packages/nltk/tokenize/punkt.py\u001b[0m in \u001b[0;36mtokenize\u001b[0;34m(self, text, realign_boundaries)\u001b[0m\n\u001b[1;32m   1270\u001b[0m         \u001b[0mGiven\u001b[0m \u001b[0ma\u001b[0m \u001b[0mtext\u001b[0m\u001b[0;34m,\u001b[0m \u001b[0mreturns\u001b[0m \u001b[0ma\u001b[0m \u001b[0mlist\u001b[0m \u001b[0mof\u001b[0m \u001b[0mthe\u001b[0m \u001b[0msentences\u001b[0m \u001b[0;32min\u001b[0m \u001b[0mthat\u001b[0m \u001b[0mtext\u001b[0m\u001b[0;34m.\u001b[0m\u001b[0;34m\u001b[0m\u001b[0;34m\u001b[0m\u001b[0m\n\u001b[1;32m   1271\u001b[0m         \"\"\"\n\u001b[0;32m-> 1272\u001b[0;31m         \u001b[0;32mreturn\u001b[0m \u001b[0mlist\u001b[0m\u001b[0;34m(\u001b[0m\u001b[0mself\u001b[0m\u001b[0;34m.\u001b[0m\u001b[0msentences_from_text\u001b[0m\u001b[0;34m(\u001b[0m\u001b[0mtext\u001b[0m\u001b[0;34m,\u001b[0m \u001b[0mrealign_boundaries\u001b[0m\u001b[0;34m)\u001b[0m\u001b[0;34m)\u001b[0m\u001b[0;34m\u001b[0m\u001b[0;34m\u001b[0m\u001b[0m\n\u001b[0m\u001b[1;32m   1273\u001b[0m \u001b[0;34m\u001b[0m\u001b[0m\n\u001b[1;32m   1274\u001b[0m     \u001b[0;32mdef\u001b[0m \u001b[0mdebug_decisions\u001b[0m\u001b[0;34m(\u001b[0m\u001b[0mself\u001b[0m\u001b[0;34m,\u001b[0m \u001b[0mtext\u001b[0m\u001b[0;34m)\u001b[0m\u001b[0;34m:\u001b[0m\u001b[0;34m\u001b[0m\u001b[0;34m\u001b[0m\u001b[0m\n",
      "\u001b[0;32m/.autofs/tools/spack/var/spack/environments/engl-581-2/.spack-env/view/lib/python3.8/site-packages/nltk/tokenize/punkt.py\u001b[0m in \u001b[0;36msentences_from_text\u001b[0;34m(self, text, realign_boundaries)\u001b[0m\n\u001b[1;32m   1324\u001b[0m         \u001b[0mfollows\u001b[0m \u001b[0mthe\u001b[0m \u001b[0mperiod\u001b[0m\u001b[0;34m.\u001b[0m\u001b[0;34m\u001b[0m\u001b[0;34m\u001b[0m\u001b[0m\n\u001b[1;32m   1325\u001b[0m         \"\"\"\n\u001b[0;32m-> 1326\u001b[0;31m         \u001b[0;32mreturn\u001b[0m \u001b[0;34m[\u001b[0m\u001b[0mtext\u001b[0m\u001b[0;34m[\u001b[0m\u001b[0ms\u001b[0m\u001b[0;34m:\u001b[0m\u001b[0me\u001b[0m\u001b[0;34m]\u001b[0m \u001b[0;32mfor\u001b[0m \u001b[0ms\u001b[0m\u001b[0;34m,\u001b[0m \u001b[0me\u001b[0m \u001b[0;32min\u001b[0m \u001b[0mself\u001b[0m\u001b[0;34m.\u001b[0m\u001b[0mspan_tokenize\u001b[0m\u001b[0;34m(\u001b[0m\u001b[0mtext\u001b[0m\u001b[0;34m,\u001b[0m \u001b[0mrealign_boundaries\u001b[0m\u001b[0;34m)\u001b[0m\u001b[0;34m]\u001b[0m\u001b[0;34m\u001b[0m\u001b[0;34m\u001b[0m\u001b[0m\n\u001b[0m\u001b[1;32m   1327\u001b[0m \u001b[0;34m\u001b[0m\u001b[0m\n\u001b[1;32m   1328\u001b[0m     \u001b[0;32mdef\u001b[0m \u001b[0m_slices_from_text\u001b[0m\u001b[0;34m(\u001b[0m\u001b[0mself\u001b[0m\u001b[0;34m,\u001b[0m \u001b[0mtext\u001b[0m\u001b[0;34m)\u001b[0m\u001b[0;34m:\u001b[0m\u001b[0;34m\u001b[0m\u001b[0;34m\u001b[0m\u001b[0m\n",
      "\u001b[0;32m/.autofs/tools/spack/var/spack/environments/engl-581-2/.spack-env/view/lib/python3.8/site-packages/nltk/tokenize/punkt.py\u001b[0m in \u001b[0;36m<listcomp>\u001b[0;34m(.0)\u001b[0m\n\u001b[1;32m   1324\u001b[0m         \u001b[0mfollows\u001b[0m \u001b[0mthe\u001b[0m \u001b[0mperiod\u001b[0m\u001b[0;34m.\u001b[0m\u001b[0;34m\u001b[0m\u001b[0;34m\u001b[0m\u001b[0m\n\u001b[1;32m   1325\u001b[0m         \"\"\"\n\u001b[0;32m-> 1326\u001b[0;31m         \u001b[0;32mreturn\u001b[0m \u001b[0;34m[\u001b[0m\u001b[0mtext\u001b[0m\u001b[0;34m[\u001b[0m\u001b[0ms\u001b[0m\u001b[0;34m:\u001b[0m\u001b[0me\u001b[0m\u001b[0;34m]\u001b[0m \u001b[0;32mfor\u001b[0m \u001b[0ms\u001b[0m\u001b[0;34m,\u001b[0m \u001b[0me\u001b[0m \u001b[0;32min\u001b[0m \u001b[0mself\u001b[0m\u001b[0;34m.\u001b[0m\u001b[0mspan_tokenize\u001b[0m\u001b[0;34m(\u001b[0m\u001b[0mtext\u001b[0m\u001b[0;34m,\u001b[0m \u001b[0mrealign_boundaries\u001b[0m\u001b[0;34m)\u001b[0m\u001b[0;34m]\u001b[0m\u001b[0;34m\u001b[0m\u001b[0;34m\u001b[0m\u001b[0m\n\u001b[0m\u001b[1;32m   1327\u001b[0m \u001b[0;34m\u001b[0m\u001b[0m\n\u001b[1;32m   1328\u001b[0m     \u001b[0;32mdef\u001b[0m \u001b[0m_slices_from_text\u001b[0m\u001b[0;34m(\u001b[0m\u001b[0mself\u001b[0m\u001b[0;34m,\u001b[0m \u001b[0mtext\u001b[0m\u001b[0;34m)\u001b[0m\u001b[0;34m:\u001b[0m\u001b[0;34m\u001b[0m\u001b[0;34m\u001b[0m\u001b[0m\n",
      "\u001b[0;32m/.autofs/tools/spack/var/spack/environments/engl-581-2/.spack-env/view/lib/python3.8/site-packages/nltk/tokenize/punkt.py\u001b[0m in \u001b[0;36mspan_tokenize\u001b[0;34m(self, text, realign_boundaries)\u001b[0m\n\u001b[1;32m   1314\u001b[0m         \u001b[0;32mif\u001b[0m \u001b[0mrealign_boundaries\u001b[0m\u001b[0;34m:\u001b[0m\u001b[0;34m\u001b[0m\u001b[0;34m\u001b[0m\u001b[0m\n\u001b[1;32m   1315\u001b[0m             \u001b[0mslices\u001b[0m \u001b[0;34m=\u001b[0m \u001b[0mself\u001b[0m\u001b[0;34m.\u001b[0m\u001b[0m_realign_boundaries\u001b[0m\u001b[0;34m(\u001b[0m\u001b[0mtext\u001b[0m\u001b[0;34m,\u001b[0m \u001b[0mslices\u001b[0m\u001b[0;34m)\u001b[0m\u001b[0;34m\u001b[0m\u001b[0;34m\u001b[0m\u001b[0m\n\u001b[0;32m-> 1316\u001b[0;31m         \u001b[0;32mfor\u001b[0m \u001b[0msl\u001b[0m \u001b[0;32min\u001b[0m \u001b[0mslices\u001b[0m\u001b[0;34m:\u001b[0m\u001b[0;34m\u001b[0m\u001b[0;34m\u001b[0m\u001b[0m\n\u001b[0m\u001b[1;32m   1317\u001b[0m             \u001b[0;32myield\u001b[0m \u001b[0;34m(\u001b[0m\u001b[0msl\u001b[0m\u001b[0;34m.\u001b[0m\u001b[0mstart\u001b[0m\u001b[0;34m,\u001b[0m \u001b[0msl\u001b[0m\u001b[0;34m.\u001b[0m\u001b[0mstop\u001b[0m\u001b[0;34m)\u001b[0m\u001b[0;34m\u001b[0m\u001b[0;34m\u001b[0m\u001b[0m\n\u001b[1;32m   1318\u001b[0m \u001b[0;34m\u001b[0m\u001b[0m\n",
      "\u001b[0;32m/.autofs/tools/spack/var/spack/environments/engl-581-2/.spack-env/view/lib/python3.8/site-packages/nltk/tokenize/punkt.py\u001b[0m in \u001b[0;36m_realign_boundaries\u001b[0;34m(self, text, slices)\u001b[0m\n\u001b[1;32m   1355\u001b[0m         \"\"\"\n\u001b[1;32m   1356\u001b[0m         \u001b[0mrealign\u001b[0m \u001b[0;34m=\u001b[0m \u001b[0;36m0\u001b[0m\u001b[0;34m\u001b[0m\u001b[0;34m\u001b[0m\u001b[0m\n\u001b[0;32m-> 1357\u001b[0;31m         \u001b[0;32mfor\u001b[0m \u001b[0msl1\u001b[0m\u001b[0;34m,\u001b[0m \u001b[0msl2\u001b[0m \u001b[0;32min\u001b[0m \u001b[0m_pair_iter\u001b[0m\u001b[0;34m(\u001b[0m\u001b[0mslices\u001b[0m\u001b[0;34m)\u001b[0m\u001b[0;34m:\u001b[0m\u001b[0;34m\u001b[0m\u001b[0;34m\u001b[0m\u001b[0m\n\u001b[0m\u001b[1;32m   1358\u001b[0m             \u001b[0msl1\u001b[0m \u001b[0;34m=\u001b[0m \u001b[0mslice\u001b[0m\u001b[0;34m(\u001b[0m\u001b[0msl1\u001b[0m\u001b[0;34m.\u001b[0m\u001b[0mstart\u001b[0m \u001b[0;34m+\u001b[0m \u001b[0mrealign\u001b[0m\u001b[0;34m,\u001b[0m \u001b[0msl1\u001b[0m\u001b[0;34m.\u001b[0m\u001b[0mstop\u001b[0m\u001b[0;34m)\u001b[0m\u001b[0;34m\u001b[0m\u001b[0;34m\u001b[0m\u001b[0m\n\u001b[1;32m   1359\u001b[0m             \u001b[0;32mif\u001b[0m \u001b[0;32mnot\u001b[0m \u001b[0msl2\u001b[0m\u001b[0;34m:\u001b[0m\u001b[0;34m\u001b[0m\u001b[0;34m\u001b[0m\u001b[0m\n",
      "\u001b[0;32m/.autofs/tools/spack/var/spack/environments/engl-581-2/.spack-env/view/lib/python3.8/site-packages/nltk/tokenize/punkt.py\u001b[0m in \u001b[0;36m_pair_iter\u001b[0;34m(it)\u001b[0m\n\u001b[1;32m    312\u001b[0m     \u001b[0mit\u001b[0m \u001b[0;34m=\u001b[0m \u001b[0miter\u001b[0m\u001b[0;34m(\u001b[0m\u001b[0mit\u001b[0m\u001b[0;34m)\u001b[0m\u001b[0;34m\u001b[0m\u001b[0;34m\u001b[0m\u001b[0m\n\u001b[1;32m    313\u001b[0m     \u001b[0;32mtry\u001b[0m\u001b[0;34m:\u001b[0m\u001b[0;34m\u001b[0m\u001b[0;34m\u001b[0m\u001b[0m\n\u001b[0;32m--> 314\u001b[0;31m         \u001b[0mprev\u001b[0m \u001b[0;34m=\u001b[0m \u001b[0mnext\u001b[0m\u001b[0;34m(\u001b[0m\u001b[0mit\u001b[0m\u001b[0;34m)\u001b[0m\u001b[0;34m\u001b[0m\u001b[0;34m\u001b[0m\u001b[0m\n\u001b[0m\u001b[1;32m    315\u001b[0m     \u001b[0;32mexcept\u001b[0m \u001b[0mStopIteration\u001b[0m\u001b[0;34m:\u001b[0m\u001b[0;34m\u001b[0m\u001b[0;34m\u001b[0m\u001b[0m\n\u001b[1;32m    316\u001b[0m         \u001b[0;32mreturn\u001b[0m\u001b[0;34m\u001b[0m\u001b[0;34m\u001b[0m\u001b[0m\n",
      "\u001b[0;32m/.autofs/tools/spack/var/spack/environments/engl-581-2/.spack-env/view/lib/python3.8/site-packages/nltk/tokenize/punkt.py\u001b[0m in \u001b[0;36m_slices_from_text\u001b[0;34m(self, text)\u001b[0m\n\u001b[1;32m   1328\u001b[0m     \u001b[0;32mdef\u001b[0m \u001b[0m_slices_from_text\u001b[0m\u001b[0;34m(\u001b[0m\u001b[0mself\u001b[0m\u001b[0;34m,\u001b[0m \u001b[0mtext\u001b[0m\u001b[0;34m)\u001b[0m\u001b[0;34m:\u001b[0m\u001b[0;34m\u001b[0m\u001b[0;34m\u001b[0m\u001b[0m\n\u001b[1;32m   1329\u001b[0m         \u001b[0mlast_break\u001b[0m \u001b[0;34m=\u001b[0m \u001b[0;36m0\u001b[0m\u001b[0;34m\u001b[0m\u001b[0;34m\u001b[0m\u001b[0m\n\u001b[0;32m-> 1330\u001b[0;31m         \u001b[0;32mfor\u001b[0m \u001b[0mmatch\u001b[0m \u001b[0;32min\u001b[0m \u001b[0mself\u001b[0m\u001b[0;34m.\u001b[0m\u001b[0m_lang_vars\u001b[0m\u001b[0;34m.\u001b[0m\u001b[0mperiod_context_re\u001b[0m\u001b[0;34m(\u001b[0m\u001b[0;34m)\u001b[0m\u001b[0;34m.\u001b[0m\u001b[0mfinditer\u001b[0m\u001b[0;34m(\u001b[0m\u001b[0mtext\u001b[0m\u001b[0;34m)\u001b[0m\u001b[0;34m:\u001b[0m\u001b[0;34m\u001b[0m\u001b[0;34m\u001b[0m\u001b[0m\n\u001b[0m\u001b[1;32m   1331\u001b[0m             \u001b[0mcontext\u001b[0m \u001b[0;34m=\u001b[0m \u001b[0mmatch\u001b[0m\u001b[0;34m.\u001b[0m\u001b[0mgroup\u001b[0m\u001b[0;34m(\u001b[0m\u001b[0;34m)\u001b[0m \u001b[0;34m+\u001b[0m \u001b[0mmatch\u001b[0m\u001b[0;34m.\u001b[0m\u001b[0mgroup\u001b[0m\u001b[0;34m(\u001b[0m\u001b[0;34m\"after_tok\"\u001b[0m\u001b[0;34m)\u001b[0m\u001b[0;34m\u001b[0m\u001b[0;34m\u001b[0m\u001b[0m\n\u001b[1;32m   1332\u001b[0m             \u001b[0;32mif\u001b[0m \u001b[0mself\u001b[0m\u001b[0;34m.\u001b[0m\u001b[0mtext_contains_sentbreak\u001b[0m\u001b[0;34m(\u001b[0m\u001b[0mcontext\u001b[0m\u001b[0;34m)\u001b[0m\u001b[0;34m:\u001b[0m\u001b[0;34m\u001b[0m\u001b[0;34m\u001b[0m\u001b[0m\n",
      "\u001b[0;31mTypeError\u001b[0m: expected string or bytes-like object"
     ]
    }
   ],
   "source": [
    "nish = []\n",
    "yash = nltk.tokenize.sent_tokenize(toksents)\n",
    "for i in yash:\n",
    "    nish.append(nltk.tokenize.word_tokenize(i))"
   ]
  },
  {
   "cell_type": "code",
   "execution_count": 34,
   "metadata": {},
   "outputs": [
    {
     "name": "stdout",
     "output_type": "stream",
     "text": [
      "Done\n"
     ]
    }
   ],
   "source": [
    "model = gensim.models.Word2Vec(toksents,min_count=5,size=100, window=5, workers=4)\n",
    "print(\"Done\")"
   ]
  },
  {
   "cell_type": "code",
   "execution_count": 35,
   "metadata": {},
   "outputs": [],
   "source": [
    "words=list(model.wv.vocab)"
   ]
  },
  {
   "cell_type": "code",
   "execution_count": 4,
   "metadata": {},
   "outputs": [
    {
     "data": {
      "text/plain": [
       "0.68248713"
      ]
     },
     "execution_count": 4,
     "metadata": {},
     "output_type": "execute_result"
    }
   ],
   "source": [
    "#model.save(\"myw2v.model\")\n",
    "#model = Word2Vec.load(\"myw2v.model\")\n",
    "toksents['man']\n",
    "toksents.similarity('man','boy')"
   ]
  },
  {
   "cell_type": "code",
   "execution_count": 5,
   "metadata": {},
   "outputs": [
    {
     "data": {
      "text/plain": [
       "0.76640123"
      ]
     },
     "execution_count": 5,
     "metadata": {},
     "output_type": "execute_result"
    }
   ],
   "source": [
    "toksents['man']\n",
    "toksents.similarity('man','woman')"
   ]
  },
  {
   "cell_type": "code",
   "execution_count": 6,
   "metadata": {},
   "outputs": [
    {
     "data": {
      "text/plain": [
       "0.44135594"
      ]
     },
     "execution_count": 6,
     "metadata": {},
     "output_type": "execute_result"
    }
   ],
   "source": [
    "toksents.similarity('nurse','woman')"
   ]
  },
  {
   "cell_type": "code",
   "execution_count": 7,
   "metadata": {},
   "outputs": [
    {
     "data": {
      "text/plain": [
       "0.25472286"
      ]
     },
     "execution_count": 7,
     "metadata": {},
     "output_type": "execute_result"
    }
   ],
   "source": [
    "toksents.similarity('nurse','man')"
   ]
  },
  {
   "cell_type": "code",
   "execution_count": 8,
   "metadata": {},
   "outputs": [
    {
     "data": {
      "text/plain": [
       "0.6129949"
      ]
     },
     "execution_count": 8,
     "metadata": {},
     "output_type": "execute_result"
    }
   ],
   "source": [
    "toksents.similarity('he','she')"
   ]
  },
  {
   "cell_type": "code",
   "execution_count": 14,
   "metadata": {},
   "outputs": [
    {
     "data": {
      "text/plain": [
       "0.31448957"
      ]
     },
     "execution_count": 14,
     "metadata": {},
     "output_type": "execute_result"
    }
   ],
   "source": [
    "toksents.similarity('doctor','man')"
   ]
  },
  {
   "cell_type": "code",
   "execution_count": 16,
   "metadata": {},
   "outputs": [
    {
     "data": {
      "text/plain": [
       "0.37945858"
      ]
     },
     "execution_count": 16,
     "metadata": {},
     "output_type": "execute_result"
    }
   ],
   "source": [
    "toksents.similarity('doctor','woman')"
   ]
  },
  {
   "cell_type": "code",
   "execution_count": 17,
   "metadata": {},
   "outputs": [
    {
     "data": {
      "text/plain": [
       "0.76094574"
      ]
     },
     "execution_count": 17,
     "metadata": {},
     "output_type": "execute_result"
    }
   ],
   "source": [
    "toksents.similarity('dog','cat')"
   ]
  },
  {
   "cell_type": "code",
   "execution_count": 36,
   "metadata": {},
   "outputs": [
    {
     "data": {
      "text/plain": [
       "0.8208151"
      ]
     },
     "execution_count": 36,
     "metadata": {},
     "output_type": "execute_result"
    }
   ],
   "source": [
    "model.wv['he']\n",
    "model.wv.similarity('he','she')"
   ]
  },
  {
   "cell_type": "code",
   "execution_count": 37,
   "metadata": {},
   "outputs": [
    {
     "data": {
      "text/plain": [
       "0.851572"
      ]
     },
     "execution_count": 37,
     "metadata": {},
     "output_type": "execute_result"
    }
   ],
   "source": [
    "model.wv['dog']\n",
    "model.wv.similarity('dog', 'cat')"
   ]
  },
  {
   "cell_type": "code",
   "execution_count": 38,
   "metadata": {},
   "outputs": [
    {
     "data": {
      "text/plain": [
       "0.45727187"
      ]
     },
     "execution_count": 38,
     "metadata": {},
     "output_type": "execute_result"
    }
   ],
   "source": [
    "model.wv['doctor']\n",
    "model.wv.similarity('doctor', 'woman')"
   ]
  },
  {
   "cell_type": "code",
   "execution_count": 39,
   "metadata": {},
   "outputs": [
    {
     "data": {
      "text/plain": [
       "0.43280336"
      ]
     },
     "execution_count": 39,
     "metadata": {},
     "output_type": "execute_result"
    }
   ],
   "source": [
    "model.wv['doctor']\n",
    "model.wv.similarity('doctor', 'man')"
   ]
  },
  {
   "cell_type": "code",
   "execution_count": 40,
   "metadata": {},
   "outputs": [
    {
     "data": {
      "text/plain": [
       "-0.0009664097"
      ]
     },
     "execution_count": 40,
     "metadata": {},
     "output_type": "execute_result"
    }
   ],
   "source": [
    "model.wv.similarity('football','man')"
   ]
  },
  {
   "cell_type": "code",
   "execution_count": null,
   "metadata": {},
   "outputs": [],
   "source": []
  }
 ],
 "metadata": {
  "kernelspec": {
   "display_name": "Python 3",
   "language": "python",
   "name": "python3"
  },
  "language_info": {
   "codemirror_mode": {
    "name": "ipython",
    "version": 3
   },
   "file_extension": ".py",
   "mimetype": "text/x-python",
   "name": "python",
   "nbconvert_exporter": "python",
   "pygments_lexer": "ipython3",
   "version": "3.8.3"
  }
 },
 "nbformat": 4,
 "nbformat_minor": 4
}
